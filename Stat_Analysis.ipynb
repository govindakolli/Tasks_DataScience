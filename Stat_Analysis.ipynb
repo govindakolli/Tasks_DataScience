{
  "nbformat": 4,
  "nbformat_minor": 0,
  "metadata": {
    "colab": {
      "provenance": [],
      "authorship_tag": "ABX9TyOj8eGWijKPHK8Q+4/Rbk1J",
      "include_colab_link": true
    },
    "kernelspec": {
      "name": "python3",
      "display_name": "Python 3"
    },
    "language_info": {
      "name": "python"
    }
  },
  "cells": [
    {
      "cell_type": "markdown",
      "metadata": {
        "id": "view-in-github",
        "colab_type": "text"
      },
      "source": [
        "<a href=\"https://colab.research.google.com/github/govindakolli/Tasks_DataScience/blob/main/Stat_Analysis.ipynb\" target=\"_parent\"><img src=\"https://colab.research.google.com/assets/colab-badge.svg\" alt=\"Open In Colab\"/></a>"
      ]
    },
    {
      "cell_type": "markdown",
      "source": [
        "**Statistical Analysis**\n",
        "\n",
        "Calculate the eigenvalues and eigenvectors of a large sparse matrix using numpy's sparse matrix handling."
      ],
      "metadata": {
        "id": "eQxrIVmHFTDY"
      }
    },
    {
      "cell_type": "code",
      "execution_count": 36,
      "metadata": {
        "id": "4smE2Rx-FIR0"
      },
      "outputs": [],
      "source": [
        "#Importing necessary libraries\n",
        "import pandas as pd\n",
        "import numpy as np\n",
        "import scipy.sparse as sparse\n",
        "from scipy.sparse.linalg import eigs\n",
        "\n",
        "#seed for reproducibility\n",
        "np.random.seed(0)"
      ]
    },
    {
      "cell_type": "code",
      "source": [
        "# to create a sparse matrix , data\n",
        "data = np.array([1, 9, 5])\n",
        "row_ind = np.array([0,0,2])\n",
        "col_ind = np.array([0,1,2])\n"
      ],
      "metadata": {
        "id": "fU4JsxiLGZ7i"
      },
      "execution_count": 37,
      "outputs": []
    },
    {
      "cell_type": "code",
      "source": [
        "# creating sparse matrix from Scipy.sparse module  functions\n",
        "sparse_id1  = sparse.identity(5, format = 'csr')\n",
        "print(\"sparse _id1 :\",sparse_id1)\n",
        "sparse_id2  = sparse.eye(5, format = 'csr')\n",
        "print(\"sparse_id2\",sparse_id2)"
      ],
      "metadata": {
        "id": "9qoBhC8i7XCz"
      },
      "execution_count": 38,
      "outputs": []
    },
    {
      "cell_type": "code",
      "source": [
        "#create coo sparse matrix\n",
        "sparse_mat = sparse.coo_matrix((data,(row_ind,col_ind)),shape =(3,3))\n",
        "print(sparse_mat)"
      ],
      "metadata": {
        "id": "-Omn6qc8HxdP"
      },
      "execution_count": 39,
      "outputs": []
    },
    {
      "cell_type": "code",
      "source": [
        "#converting the matrix data type\n",
        "sparse_mat = sparse_mat.astype(np.float64)"
      ],
      "metadata": {
        "id": "1SWI3BNnzPdh"
      },
      "execution_count": 40,
      "outputs": []
    },
    {
      "cell_type": "code",
      "source": [
        "sparse_mat = sparse_mat.tocsr()\n",
        "print(sparse_mat)"
      ],
      "metadata": {
        "id": "GK7GEr20Sux_"
      },
      "execution_count": 41,
      "outputs": []
    },
    {
      "cell_type": "code",
      "source": [
        "sparse_csc = sparse_mat.tocsc()\n",
        "print(sparse_csc)"
      ],
      "metadata": {
        "id": "pZ1Y-5ZgU_GY"
      },
      "execution_count": 42,
      "outputs": []
    },
    {
      "cell_type": "code",
      "source": [
        "sparse_dok = sparse_mat.todok()\n",
        "print(sparse_dok)"
      ],
      "metadata": {
        "id": "oRytDiAPslKt"
      },
      "execution_count": 43,
      "outputs": []
    },
    {
      "cell_type": "code",
      "source": [
        "sparse_ll = sparse_mat.tolil()\n",
        "print(sparse_ll)"
      ],
      "metadata": {
        "id": "HyOYtwRGtFEi"
      },
      "execution_count": 44,
      "outputs": []
    },
    {
      "cell_type": "markdown",
      "source": [
        "Statistical analysis"
      ],
      "metadata": {
        "id": "KEFXeyiStm0Z"
      }
    },
    {
      "cell_type": "code",
      "source": [
        "#mean\n",
        "mean = np.mean(sparse_csr.data)\n",
        "print(\"mean = \",mean)\n",
        "\n",
        "#median\n",
        "median = np.median(sparse_csr.data)\n",
        "print(\"meadian = \",median)\n",
        "\n",
        "#max\n",
        "max = np.max(sparse_csr.data)\n",
        "print(\"max = \", max)\n",
        "\n",
        "#min\n",
        "min = np.min(sparse_csr.data)\n",
        "print(\"min = \",min)\n",
        "\n",
        "#sum\n",
        "sum = np.sum(sparse_csr.data)\n",
        "print(\"sum = \" ,sum)\n",
        "\n",
        "#product\n",
        "product = np.prod(sparse_csr.data)\n",
        "print(\"product = \",product)\n",
        "\n",
        "#variance\n",
        "var = np.var(sparse_csr.data)\n",
        "print(\"variance =\", var)\n",
        "\n",
        "#standard deviation\n",
        "std = np.std(sparse_csr.data)\n",
        "print(\"standard deviation = \",std)"
      ],
      "metadata": {
        "colab": {
          "base_uri": "https://localhost:8080/",
          "height": 87
        },
        "id": "0tED2H5ptWLC",
        "outputId": "0516ef67-1d8b-44d3-96d3-70afee14f2b2"
      },
      "execution_count": 45,
      "outputs": [
        {
          "output_type": "execute_result",
          "data": {
            "text/plain": [
              "'#mean \\nmean = np.mean(sparse_csr.data)\\nprint(\"mean = \",mean)\\n\\n#median\\nmedian = np.median(sparse_csr.data)\\nprint(\"meadian = \",median)\\n\\n#max\\nmax = np.max(sparse_csr.data)\\nprint(\"max = \", max)\\n\\n#min\\nmin = np.min(sparse_csr.data)\\nprint(\"min = \",min)\\n\\n#sum\\nsum = np.sum(sparse_csr.data)\\nprint(\"sum = \" ,sum)\\n\\n#product\\nproduct = np.prod(sparse_csr.data)\\nprint(\"product = \",product)\\n\\n#variance\\nvar = np.var(sparse_csr.data)\\nprint(\"variance =\", var)\\n\\n#standard deviation\\nstd = np.std(sparse_csr.data)\\nprint(\"standard deviation = \",std)'"
            ],
            "application/vnd.google.colaboratory.intrinsic+json": {
              "type": "string"
            }
          },
          "metadata": {},
          "execution_count": 45
        }
      ]
    },
    {
      "cell_type": "code",
      "source": [
        "# stats\n",
        "#dense matrix\n",
        "dense_mat = sparse_mat.todense()\n",
        "print(dense_mat)\n",
        "# Describe the sparse matrix\n",
        "description = pd.DataFrame(dense_mat).describe()\n",
        "\n",
        "print(\"Description of the sparse matrix:\\n\", description)"
      ],
      "metadata": {
        "id": "KAQlp9xvuV_W"
      },
      "execution_count": 46,
      "outputs": []
    },
    {
      "cell_type": "code",
      "source": [
        "# Egigen values and Eigen vecors\n",
        "#here k < N-1 for sparse matrix ,  size of matrix  = N x N\n",
        "#here Which = 'LM' specifies largest magnitude and LR is largest real\n",
        "EigenValues,EigenVectors = eigs(sparse_csr,k=1,which='LM')\n",
        "print(\"Eigen Values : \",EigenValues)\n",
        "print(\"Eigen Vectors : \",EigenVectors)"
      ],
      "metadata": {
        "colab": {
          "base_uri": "https://localhost:8080/"
        },
        "id": "GYeeG9K6vB6G",
        "outputId": "18c85941-30e3-4aba-85e1-8bb681f73761"
      },
      "execution_count": 47,
      "outputs": [
        {
          "output_type": "stream",
          "name": "stdout",
          "text": [
            "Eigen Values :  [5.+0.j]\n",
            "Eigen Vectors :  [[1.11022302e-16+0.j]\n",
            " [0.00000000e+00+0.j]\n",
            " [1.00000000e+00+0.j]]\n"
          ]
        }
      ]
    },
    {
      "cell_type": "code",
      "source": [
        "EigenValues,EigenVectors = eigs(sparse_csr,k=1,which='LR')\n",
        "print(\"Eigen Values : \",EigenValues)\n",
        "print(\"Eigen Vectors : \",EigenVectors)"
      ],
      "metadata": {
        "colab": {
          "base_uri": "https://localhost:8080/"
        },
        "id": "2cxGiRi0xfjc",
        "outputId": "d7eb720d-058a-400f-a19f-334a4e8952bb"
      },
      "execution_count": 48,
      "outputs": [
        {
          "output_type": "stream",
          "name": "stdout",
          "text": [
            "Eigen Values :  [5.+0.j]\n",
            "Eigen Vectors :  [[1.11022302e-16+0.j]\n",
            " [1.11022302e-16+0.j]\n",
            " [1.00000000e+00+0.j]]\n"
          ]
        }
      ]
    },
    {
      "cell_type": "code",
      "source": [
        "EigenValues,EigenVectors = eigs(sparse_csr,k=1,which='SM')\n",
        "print(\"Eigen Values : \",EigenValues)\n",
        "print(\"Eigen Vecots : \",EigenVectors)"
      ],
      "metadata": {
        "colab": {
          "base_uri": "https://localhost:8080/"
        },
        "id": "bGI92uz-0D3l",
        "outputId": "5e6567f1-e65b-450c-e1b8-74d64c37848a"
      },
      "execution_count": 49,
      "outputs": [
        {
          "output_type": "stream",
          "name": "stdout",
          "text": [
            "Eigen Values :  [-2.35623814e-16+0.j]\n",
            "Eigen Vecots :  [[ 9.93883735e-01+0.j]\n",
            " [-1.10431526e-01+0.j]\n",
            " [ 4.44089210e-16+0.j]]\n"
          ]
        }
      ]
    },
    {
      "cell_type": "code",
      "source": [],
      "metadata": {
        "id": "8nE9Ogz7eZ9V"
      },
      "execution_count": 49,
      "outputs": []
    }
  ]
}