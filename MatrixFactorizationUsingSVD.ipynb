{
  "nbformat": 4,
  "nbformat_minor": 0,
  "metadata": {
    "colab": {
      "provenance": [],
      "authorship_tag": "ABX9TyMEoLUIgP0szCopt5ofU+iT",
      "include_colab_link": true
    },
    "kernelspec": {
      "name": "python3",
      "display_name": "Python 3"
    },
    "language_info": {
      "name": "python"
    }
  },
  "cells": [
    {
      "cell_type": "markdown",
      "metadata": {
        "id": "view-in-github",
        "colab_type": "text"
      },
      "source": [
        "<a href=\"https://colab.research.google.com/github/govindakolli/Tasks_DataScience/blob/main/MatrixFactorizationUsingSVD.ipynb\" target=\"_parent\"><img src=\"https://colab.research.google.com/assets/colab-badge.svg\" alt=\"Open In Colab\"/></a>"
      ]
    },
    {
      "cell_type": "markdown",
      "source": [
        "**Implementing Matrix Factorization using SVD**\n",
        "\n",
        "Implementing matrix factorization using singular value decomposition (SVD) with numpy."
      ],
      "metadata": {
        "id": "ELnbg2UI-ZwF"
      }
    },
    {
      "cell_type": "markdown",
      "source": [
        "**A   =   U      S     V <sup>T<sup>**\n",
        "\n",
        "\n",
        "**A <sub>mxn<sub>**   =   **U <sub>mxm<sub>**  **S <sub>mxn<sub>**    **V     <sub>nxn<sub>**\n",
        "\n",
        "\n",
        "\n",
        "\n",
        "Perform Singular Value Decomposition (SVD) for matrix factorization.\n",
        "\n",
        "    Parameters:\n",
        "    matrix (numpy.ndarray): Input matrix (m x n).\n",
        "    k (int): Number of singular values and vectors to keep.\n",
        "\n",
        "    Returns:\n",
        "    U (numpy.ndarray): Left singular vectors (m x k).\n",
        "    S (numpy.ndarray): Singular values (k).\n",
        "    Vt (numpy.ndarray): Right singular vectors (k x n).\n",
        "    "
      ],
      "metadata": {
        "id": "A-ZDgheS_ujh"
      }
    },
    {
      "cell_type": "code",
      "source": [
        "import numpy as np"
      ],
      "metadata": {
        "id": "PfrFg_WOFTwn"
      },
      "execution_count": 6,
      "outputs": []
    },
    {
      "cell_type": "code",
      "execution_count": 15,
      "metadata": {
        "id": "I86iFXPd9XRG"
      },
      "outputs": [],
      "source": [
        "def matrix_factorization_svd(matrix, k):\n",
        "    # Perform SVD\n",
        "    U, S, Vt = np.linalg.svd(matrix, full_matrices=False)\n",
        "\n",
        "    # Keep only the top k singular values and vectors\n",
        "    U_k = U[:, :k]\n",
        "    S_k = S[:k]\n",
        "    Vt_k = Vt[:k, :]\n",
        "\n",
        "    return U_k, S_k, Vt_k\n",
        "\n",
        "\n"
      ]
    },
    {
      "cell_type": "code",
      "source": [
        "# Example usage\n",
        "if __name__ == \"__main__\":\n",
        "    # Sample matrix\n",
        "    matrix = np.array([[5, 4, 0, 0],\n",
        "                       [3, 0, 0, 1],\n",
        "                       [4, 0, 0, 5],\n",
        "                       [0, 2, 3, 0],\n",
        "                       [0, 0, 4, 4]])\n",
        "\n",
        "    # Specify the number of singular values to keep\n",
        "    k = 4  # Number of latent features\n",
        "\n",
        "    # Perform SVD\n",
        "    U, S, Vt = matrix_factorization_svd(matrix, k)\n",
        "\n",
        "    # Print the results\n",
        "    print(\"Original Matrix:\\n\", matrix)\n",
        "    print(\"\\nLeft Singular Vectors (U):\\n\", U)\n",
        "    print(\"\\nSingular Values (S):\\n\", S)\n",
        "    print(\"\\nRight Singular Vectors (Vt):\\n\", Vt)\n",
        "\n",
        "    # Reconstruct the matrix (optional)\n",
        "    reconstructed_matrix = np.dot(U, np.dot(np.diag(S), Vt))\n",
        "    print(\"\\nReconstructed Matrix:\\n\", reconstructed_matrix)"
      ],
      "metadata": {
        "colab": {
          "base_uri": "https://localhost:8080/"
        },
        "id": "F8kXHYq-GwoS",
        "outputId": "69bc5aeb-2da2-459e-a0b8-3f7c4900bb10"
      },
      "execution_count": 16,
      "outputs": [
        {
          "output_type": "stream",
          "name": "stdout",
          "text": [
            "Original Matrix:\n",
            " [[5 4 0 0]\n",
            " [3 0 0 1]\n",
            " [4 0 0 5]\n",
            " [0 2 3 0]\n",
            " [0 0 4 4]]\n",
            "\n",
            "Left Singular Vectors (U):\n",
            " [[-0.5448483  -0.6324143   0.38211012  0.20406773]\n",
            " [-0.31695486 -0.14433254 -0.17143399 -0.92106636]\n",
            " [-0.6693209   0.15018686 -0.51753854  0.3165948 ]\n",
            " [-0.13857339  0.14978823  0.699486   -0.08317108]\n",
            " [-0.36808545  0.73090879  0.25976034 -0.0533238 ]]\n",
            "\n",
            "Singular Values (S):\n",
            " [8.73668712 6.14645616 4.67188274 1.03193339]\n",
            "\n",
            "Right Singular Vectors (Vt):\n",
            " [[-0.72709364 -0.28117523 -0.21610731 -0.58785453]\n",
            " [-0.48716229 -0.36282383  0.54877148  0.57435323]\n",
            " [-0.14424711  0.6266023   0.67157066 -0.36817819]\n",
            " [-0.4617364   0.62981658 -0.44848672  0.43473007]]\n",
            "\n",
            "Reconstructed Matrix:\n",
            " [[ 5.00000000e+00  4.00000000e+00  1.16738895e-15  2.05923857e-15]\n",
            " [ 3.00000000e+00  1.55484639e-15  4.78515334e-16  1.00000000e+00]\n",
            " [ 4.00000000e+00  1.00734896e-15  1.65097268e-16  5.00000000e+00]\n",
            " [ 1.38423187e-16  2.00000000e+00  3.00000000e+00  2.43253161e-16]\n",
            " [-6.46752961e-16 -1.08845069e-15  4.00000000e+00  4.00000000e+00]]\n"
          ]
        }
      ]
    },
    {
      "cell_type": "code",
      "source": [],
      "metadata": {
        "id": "T_kBx8rbGyeB"
      },
      "execution_count": null,
      "outputs": []
    },
    {
      "cell_type": "code",
      "source": [],
      "metadata": {
        "id": "O1iFF9FqGyPo"
      },
      "execution_count": null,
      "outputs": []
    },
    {
      "cell_type": "code",
      "source": [
        "A = np.array([[4,4,3],[1,4,3],[4,8,1]])\n",
        "U,S,Vt = np.linalg.svd(A)\n",
        "print(A)"
      ],
      "metadata": {
        "colab": {
          "base_uri": "https://localhost:8080/"
        },
        "id": "q3N1FLZ9DIPX",
        "outputId": "905b6c86-9f6c-46eb-fbdb-c1d099c02a2b"
      },
      "execution_count": 7,
      "outputs": [
        {
          "output_type": "stream",
          "name": "stdout",
          "text": [
            "[[4 4 3]\n",
            " [1 4 3]\n",
            " [4 8 1]]\n"
          ]
        }
      ]
    },
    {
      "cell_type": "code",
      "source": [
        "print(A.shape)"
      ],
      "metadata": {
        "colab": {
          "base_uri": "https://localhost:8080/"
        },
        "id": "1P5tsz8zF0VH",
        "outputId": "6ca35156-c1b2-4104-f780-85884630bbcd"
      },
      "execution_count": 8,
      "outputs": [
        {
          "output_type": "stream",
          "name": "stdout",
          "text": [
            "(3, 3)\n"
          ]
        }
      ]
    },
    {
      "cell_type": "code",
      "source": [
        "print(U.shape)"
      ],
      "metadata": {
        "colab": {
          "base_uri": "https://localhost:8080/"
        },
        "id": "OT2KXCi7F6-r",
        "outputId": "72d195b2-dd2c-46f6-eb57-ce2b6530e0d3"
      },
      "execution_count": 9,
      "outputs": [
        {
          "output_type": "stream",
          "name": "stdout",
          "text": [
            "(3, 3)\n"
          ]
        }
      ]
    },
    {
      "cell_type": "code",
      "source": [
        "print(S.shape)"
      ],
      "metadata": {
        "colab": {
          "base_uri": "https://localhost:8080/"
        },
        "id": "bQc9-wWtF-vj",
        "outputId": "e8613327-33de-42de-c4a3-c384d7d0c69a"
      },
      "execution_count": 10,
      "outputs": [
        {
          "output_type": "stream",
          "name": "stdout",
          "text": [
            "(3,)\n"
          ]
        }
      ]
    },
    {
      "cell_type": "code",
      "source": [
        "print(Vt.shape)"
      ],
      "metadata": {
        "colab": {
          "base_uri": "https://localhost:8080/"
        },
        "id": "ZzISYyopGB2W",
        "outputId": "600168b4-2e8f-4a76-f843-bacaff61d260"
      },
      "execution_count": 11,
      "outputs": [
        {
          "output_type": "stream",
          "name": "stdout",
          "text": [
            "(3, 3)\n"
          ]
        }
      ]
    },
    {
      "cell_type": "code",
      "source": [
        "A = np.array([[4,4,3],[1,4,3],[4,8,1]])\n",
        "#SVD\n",
        "U,S,Vt = np.linalg.svd(A)\n",
        "# matix sizes\n",
        "print(\"Original Matrix\",A)\n",
        "print(\"U shape :\",U.shape)\n",
        "print(\"S shape :\",S.shape)\n",
        "print(\"Vt shape :\",Vt.shape)\n",
        "#matrix Mul\n",
        "A_remade = U @ np.diag(S) @Vt\n",
        "\n",
        "print(\"Reconstructed MAtrix :\",A_remade)"
      ],
      "metadata": {
        "colab": {
          "base_uri": "https://localhost:8080/"
        },
        "id": "wmBPOpJeGEvz",
        "outputId": "88838a2c-9ade-45ba-8108-40dbe006b2a5"
      },
      "execution_count": 14,
      "outputs": [
        {
          "output_type": "stream",
          "name": "stdout",
          "text": [
            "Original Matrix [[4 4 3]\n",
            " [1 4 3]\n",
            " [4 8 1]]\n",
            "U shape : (3, 3)\n",
            "S shape : (3,)\n",
            "Vt shape : (3, 3)\n",
            "Reconstructed MAtrix : [[4. 4. 3.]\n",
            " [1. 4. 3.]\n",
            " [4. 8. 1.]]\n"
          ]
        }
      ]
    },
    {
      "cell_type": "code",
      "source": [],
      "metadata": {
        "id": "Dl6rRA7WGRKO"
      },
      "execution_count": null,
      "outputs": []
    }
  ]
}