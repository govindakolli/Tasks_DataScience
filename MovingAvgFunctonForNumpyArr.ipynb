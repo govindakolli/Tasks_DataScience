{
  "nbformat": 4,
  "nbformat_minor": 0,
  "metadata": {
    "colab": {
      "provenance": [],
      "authorship_tag": "ABX9TyMvTd0QhF8oGGj5oA5b3i2a",
      "include_colab_link": true
    },
    "kernelspec": {
      "name": "python3",
      "display_name": "Python 3"
    },
    "language_info": {
      "name": "python"
    }
  },
  "cells": [
    {
      "cell_type": "markdown",
      "metadata": {
        "id": "view-in-github",
        "colab_type": "text"
      },
      "source": [
        "<a href=\"https://colab.research.google.com/github/govindakolli/Tasks_DataScience/blob/main/MovingAvgFunctonForNumpyArr.ipynb\" target=\"_parent\"><img src=\"https://colab.research.google.com/assets/colab-badge.svg\" alt=\"Open In Colab\"/></a>"
      ]
    },
    {
      "cell_type": "markdown",
      "source": [
        "**Custom Moving Average Function for NumPy Arrays**\n",
        "\n",
        "Implement a moving average function for a numpy array with a specified window size.\n",
        "\n"
      ],
      "metadata": {
        "id": "OJBqUajS9tYh"
      }
    },
    {
      "cell_type": "code",
      "execution_count": null,
      "metadata": {
        "id": "J7GGf1p7zH8a"
      },
      "outputs": [],
      "source": [
        "import numpy as np"
      ]
    },
    {
      "cell_type": "code",
      "source": [
        "def custom_moving_average(arr,window_size):\n",
        "\n",
        "    if window_size <= 0 :\n",
        "      raise ValueError(\"Window size must be positive\")\n",
        "\n",
        "    if window_size > len(arr):\n",
        "      raise ValueError(\"Window size should be less than array size\")\n",
        "\n",
        "    #creating empty moving average array\n",
        "    moving_avg = np.empty(len(arr)- window_size + 1)\n",
        "\n",
        "    #calculate moving avg\n",
        "    for i in range(len(moving_avg)):\n",
        "      moving_avg[i] = np.mean(arr[i:i + window_size])\n",
        "\n",
        "    return moving_avg\n"
      ],
      "metadata": {
        "id": "s_ZZVB8Z0lXR"
      },
      "execution_count": null,
      "outputs": []
    },
    {
      "cell_type": "code",
      "source": [
        "#sample data\n",
        "data = np.array([1, 2, 3, 4, 5, 6, 7, 8, 9])\n",
        "window_size = 3\n",
        "result = custom_moving_average(data, window_size)\n",
        "print(\"Original array:\", data)\n",
        "print(\"Moving average:\", result)"
      ],
      "metadata": {
        "colab": {
          "base_uri": "https://localhost:8080/"
        },
        "id": "MOgfdvwR4Ocf",
        "outputId": "3bafb818-09d2-48f6-93b5-88d9906342c9"
      },
      "execution_count": null,
      "outputs": [
        {
          "output_type": "stream",
          "name": "stdout",
          "text": [
            "Original array: [1 2 3 4 5 6 7 8 9]\n",
            "Moving average: [2. 3. 4. 5. 6. 7. 8.]\n"
          ]
        }
      ]
    },
    {
      "cell_type": "code",
      "source": [
        "#complexity\n",
        "\"\"\"\n",
        "O(n*w)\n",
        "here n is array length and w is window size\n",
        "\"\"\""
      ],
      "metadata": {
        "id": "FHlXKlt65Ury"
      },
      "execution_count": null,
      "outputs": []
    },
    {
      "cell_type": "code",
      "source": [
        "def moving_average_2d(arr, window_size):\n",
        "\n",
        "    if window_size <= 0:\n",
        "        raise ValueError(\"Window size must be positive.\")\n",
        "    if window_size % 2 == 0:\n",
        "        raise ValueError(\"Window size must be odd.\")\n",
        "    if window_size > arr.shape[0] or window_size > arr.shape[1]:\n",
        "        raise ValueError(\"Window size must not be greater than the array dimensions.\")\n",
        "\n",
        "    n = window_size // 2  # Half window size\n",
        "    rows, cols = arr.shape\n",
        "    moving_avg = np.empty((rows - n * 2, cols - n * 2))  # Output size\n",
        "\n",
        "    # Calculate the moving averages\n",
        "    for i in range(n, rows - n):\n",
        "        for j in range(n, cols - n):\n",
        "            moving_avg[i - n, j - n] = np.mean(arr[i - n:i + n + 1, j - n:j + n + 1])\n",
        "\n",
        "    return moving_avg\n",
        "\n"
      ],
      "metadata": {
        "id": "deedwVai6u6l"
      },
      "execution_count": null,
      "outputs": []
    },
    {
      "cell_type": "code",
      "source": [
        "# Example usage\n",
        "data = np.array([[1, 2, 3, 4, 5],\n",
        "                 [6, 7, 8, 9, 10],\n",
        "                 [11, 12, 13, 14, 15],\n",
        "                 [16, 17, 18, 19, 20],\n",
        "                 [21, 22, 23, 24, 25]])\n",
        "\n",
        "window_size = 3  # Should be odd\n",
        "result = moving_average_2d(data, window_size)\n",
        "print(\"Original array:\\n\", data)\n",
        "print(\"Moving average:\\n\", result)"
      ],
      "metadata": {
        "colab": {
          "base_uri": "https://localhost:8080/"
        },
        "id": "ga8NYmAh61UL",
        "outputId": "e0b99527-6af0-4a21-d479-82105c0ece77"
      },
      "execution_count": null,
      "outputs": [
        {
          "output_type": "stream",
          "name": "stdout",
          "text": [
            "Original array:\n",
            " [[ 1  2  3  4  5]\n",
            " [ 6  7  8  9 10]\n",
            " [11 12 13 14 15]\n",
            " [16 17 18 19 20]\n",
            " [21 22 23 24 25]]\n",
            "Moving average:\n",
            " [[ 7.  8.  9.]\n",
            " [12. 13. 14.]\n",
            " [17. 18. 19.]]\n"
          ]
        }
      ]
    },
    {
      "cell_type": "code",
      "source": [],
      "metadata": {
        "id": "a57H0b6p69TZ"
      },
      "execution_count": null,
      "outputs": []
    }
  ]
}